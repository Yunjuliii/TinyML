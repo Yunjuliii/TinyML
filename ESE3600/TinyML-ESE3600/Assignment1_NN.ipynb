{
  "cells": [
    {
      "cell_type": "markdown",
      "metadata": {
        "id": "view-in-github",
        "colab_type": "text"
      },
      "source": [
        "<a href=\"https://colab.research.google.com/github/Yunjuliii/TinyML-Colab/blob/main/Assignment1_NN.ipynb\" target=\"_parent\"><img src=\"https://colab.research.google.com/assets/colab-badge.svg\" alt=\"Open In Colab\"/></a>"
      ]
    },
    {
      "cell_type": "markdown",
      "source": [
        "\n",
        "\n",
        "---\n",
        "\n",
        "\n",
        "\n",
        "Before starting, you must click on the \"Copy To Drive\" option in the top bar. Go to File --> Save a Copy to Drive. Name it *'LastName_FirstName_Assignment1.ipynb'*. <ins>This is the master notebook so you will not be able to save your changes without copying it !</ins> Once you click on that, make sure you are working on that version of the notebook so that your work is saved.\n",
        "\n",
        "\n",
        "\n",
        "---\n",
        "\n"
      ],
      "metadata": {
        "id": "-qtxDiK5ne77"
      }
    },
    {
      "cell_type": "markdown",
      "metadata": {
        "id": "aDT3sB6DrTvj"
      },
      "source": [
        "# 1. Regression using Single-Layer Neural Network\n",
        "\n",
        "In the first section of the assignment you will design your own regression model for function **Y = wX + b** using TensorFlow.\n",
        "We start by setting up the problem for you."
      ]
    },
    {
      "cell_type": "code",
      "execution_count": 2,
      "metadata": {
        "id": "eJEpdsvsGaqD"
      },
      "outputs": [],
      "source": [
        "# DO NOT CHANGE THIS CELL\n",
        "\n",
        "# We first import TensorFlow and other libraries\n",
        "import tensorflow as tf\n",
        "import numpy as np\n",
        "from tensorflow.keras import Sequential\n",
        "from tensorflow.keras.layers import Dense\n",
        "import matplotlib.pyplot as plt\n",
        "\n",
        "# We define a callback function that populates 'predictions' with predicted ys for every epoch\n",
        "predictions = []\n",
        "class myCallback(tf.keras.callbacks.Callback):\n",
        "  def on_epoch_end(self, epoch, logs={}):\n",
        "    predictions.append(model.predict(xs))\n",
        "callbacks = myCallback()\n",
        "\n",
        "# We then define the xs (inputs) and ys (outputs)\n",
        "xs = np.array([-1.0, 0.0, 1.0, 2.0, 3.0, 4.0], dtype=float)\n",
        "ys = np.array([-3.0, -1.0, 1.0, 3.0, 5.0, 7.0], dtype=float)"
      ]
    },
    {
      "cell_type": "markdown",
      "source": [
        "Let's understand the data. Plot and visualize the data (xs and ys).\n",
        "\n",
        "***Hint***: Use plt.scatter()"
      ],
      "metadata": {
        "id": "SbHmy-r3_Dw0"
      }
    },
    {
      "cell_type": "code",
      "source": [
        "# TODO: Visualize xs and ys\n",
        "plt.scatter(xs,ys,color='red')\n",
        "plt.show()\n"
      ],
      "metadata": {
        "id": "k7ZQXNE8_P6v",
        "colab": {
          "base_uri": "https://localhost:8080/",
          "height": 430
        },
        "outputId": "69a1e2fb-9a6c-4da9-b732-172705b079cb"
      },
      "execution_count": null,
      "outputs": [
        {
          "output_type": "display_data",
          "data": {
            "text/plain": [
              "<Figure size 640x480 with 1 Axes>"
            ],
            "image/png": "[encoded data removed]"
          },
          "metadata": {}
        }
      ]
    },
    {
      "cell_type": "markdown",
      "source": [
        "### Define Model"
      ],
      "metadata": {
        "id": "mOCE4STfwVai"
      }
    },
    {
      "cell_type": "markdown",
      "metadata": {
        "id": "j5rXyNc2rTvq"
      },
      "source": [
        "In the below cell, define your regression model - a single layer neural network with a dense layer - with appropriate shape, loss function and optimizer. You're free to choose the number of neuron units in the layer. Then compile the model."
      ]
    },
    {
      "cell_type": "code",
      "execution_count": null,
      "metadata": {
        "id": "pzYDzdABrTvq"
      },
      "outputs": [],
      "source": [
        "# TODO - Define Model and Compile it\n",
        "my_layer1 = Dense(units=5,input_shape=[1])\n",
        "my_layer2 = Dense(units=1,input_shape=[5])\n",
        "model = tf.keras.Sequential([my_layer1,my_layer2])\n",
        "model.compile(optimizer='sgd',loss=tf.keras.losses.MeanSquaredError())\n",
        "\n",
        "\n"
      ]
    },
    {
      "cell_type": "markdown",
      "source": [
        "### Train Model"
      ],
      "metadata": {
        "id": "JeS0r4t4wcSc"
      }
    },
    {
      "cell_type": "markdown",
      "metadata": {
        "id": "L4LwWGDhrTvr"
      },
      "source": [
        "We then fit the trained model to the training data."
      ]
    },
    {
      "cell_type": "code",
      "execution_count": null,
      "metadata": {
        "id": "FR2pXivBrTvs",
        "colab": {
          "base_uri": "https://localhost:8080/"
        },
        "outputId": "2fba97cd-3433-4195-ee1a-85689b77c140"
      },
      "outputs": [
        {
          "output_type": "stream",
          "name": "stdout",
          "text": [
            "Training!\n",
            "Epoch 1/300\n",
            "1/1 [==============================] - 0s 45ms/step\n",
            "1/1 - 0s - loss: 3.5660 - 490ms/epoch - 490ms/step\n",
            "Epoch 2/300\n",
            "1/1 [==============================] - 0s 16ms/step\n",
            "1/1 - 0s - loss: 1.6463 - 63ms/epoch - 63ms/step\n",
            "Epoch 3/300\n",
            "1/1 [==============================] - 0s 16ms/step\n",
            "1/1 - 0s - loss: 0.9461 - 64ms/epoch - 64ms/step\n",
            "Epoch 4/300\n",
            "1/1 [==============================] - 0s 16ms/step\n",
            "1/1 - 0s - loss: 0.7024 - 66ms/epoch - 66ms/step\n",
            "Epoch 5/300\n",
            "1/1 [==============================] - 0s 17ms/step\n",
            "1/1 - 0s - loss: 0.6050 - 67ms/epoch - 67ms/step\n",
            "Epoch 6/300\n",
            "1/1 [==============================] - 0s 18ms/step\n",
            "1/1 - 0s - loss: 0.5504 - 76ms/epoch - 76ms/step\n",
            "Epoch 7/300\n",
            "1/1 [==============================] - 0s 22ms/step\n",
            "1/1 - 0s - loss: 0.5088 - 73ms/epoch - 73ms/step\n",
            "Epoch 8/300\n",
            "1/1 [==============================] - 0s 17ms/step\n",
            "1/1 - 0s - loss: 0.4723 - 65ms/epoch - 65ms/step\n",
            "Epoch 9/300\n",
            "1/1 [==============================] - 0s 17ms/step\n",
            "1/1 - 0s - loss: 0.4388 - 66ms/epoch - 66ms/step\n",
            "Epoch 10/300\n",
            "1/1 [==============================] - 0s 17ms/step\n",
            "1/1 - 0s - loss: 0.4076 - 71ms/epoch - 71ms/step\n",
            "Epoch 11/300\n",
            "1/1 [==============================] - 0s 17ms/step\n",
            "1/1 - 0s - loss: 0.3785 - 65ms/epoch - 65ms/step\n",
            "Epoch 12/300\n",
            "1/1 [==============================] - 0s 18ms/step\n",
            "1/1 - 0s - loss: 0.3513 - 68ms/epoch - 68ms/step\n",
            "Epoch 13/300\n",
            "1/1 [==============================] - 0s 17ms/step\n",
            "1/1 - 0s - loss: 0.3260 - 70ms/epoch - 70ms/step\n",
            "Epoch 14/300\n",
            "1/1 [==============================] - 0s 17ms/step\n",
            "1/1 - 0s - loss: 0.3024 - 74ms/epoch - 74ms/step\n",
            "Epoch 15/300\n",
            "1/1 [==============================] - 0s 18ms/step\n",
            "1/1 - 0s - loss: 0.2804 - 77ms/epoch - 77ms/step\n",
            "Epoch 16/300\n",
            "1/1 [==============================] - 0s 18ms/step\n",
            "1/1 - 0s - loss: 0.2599 - 70ms/epoch - 70ms/step\n",
            "Epoch 17/300\n",
            "1/1 [==============================] - 0s 17ms/step\n",
            "1/1 - 0s - loss: 0.2409 - 70ms/epoch - 70ms/step\n",
            "Epoch 18/300\n",
            "1/1 [==============================] - 0s 17ms/step\n",
            "1/1 - 0s - loss: 0.2231 - 71ms/epoch - 71ms/step\n",
            "Epoch 19/300\n",
            "1/1 [==============================] - 0s 20ms/step\n",
            "1/1 - 0s - loss: 0.2066 - 72ms/epoch - 72ms/step\n",
            "Epoch 20/300\n",
            "1/1 [==============================] - 0s 20ms/step\n",
            "1/1 - 0s - loss: 0.1912 - 70ms/epoch - 70ms/step\n",
            "Epoch 21/300\n",
            "1/1 [==============================] - 0s 17ms/step\n",
            "1/1 - 0s - loss: 0.1769 - 65ms/epoch - 65ms/step\n",
            "Epoch 22/300\n",
            "1/1 [==============================] - 0s 18ms/step\n",
            "1/1 - 0s - loss: 0.1636 - 65ms/epoch - 65ms/step\n",
            "Epoch 23/300\n",
            "1/1 [==============================] - 0s 18ms/step\n",
            "1/1 - 0s - loss: 0.1513 - 69ms/epoch - 69ms/step\n",
            "Epoch 24/300\n",
            "1/1 [==============================] - 0s 17ms/step\n",
            "1/1 - 0s - loss: 0.1399 - 68ms/epoch - 68ms/step\n",
            "Epoch 25/300\n",
            "1/1 [==============================] - 0s 16ms/step\n",
            "1/1 - 0s - loss: 0.1292 - 70ms/epoch - 70ms/step\n",
            "Epoch 26/300\n",
            "1/1 [==============================] - 0s 16ms/step\n",
            "1/1 - 0s - loss: 0.1194 - 66ms/epoch - 66ms/step\n",
            "Epoch 27/300\n",
            "1/1 [==============================] - 0s 16ms/step\n",
            "1/1 - 0s - loss: 0.1102 - 66ms/epoch - 66ms/step\n",
            "Epoch 28/300\n",
            "1/1 [==============================] - 0s 17ms/step\n",
            "1/1 - 0s - loss: 0.1018 - 71ms/epoch - 71ms/step\n",
            "Epoch 29/300\n",
            "1/1 [==============================] - 0s 16ms/step\n",
            "1/1 - 0s - loss: 0.0939 - 62ms/epoch - 62ms/step\n",
            "Epoch 30/300\n",
            "1/1 [==============================] - 0s 17ms/step\n",
            "1/1 - 0s - loss: 0.0867 - 67ms/epoch - 67ms/step\n",
            "Epoch 31/300\n",
            "1/1 [==============================] - 0s 18ms/step\n",
            "1/1 - 0s - loss: 0.0799 - 67ms/epoch - 67ms/step\n",
            "Epoch 32/300\n",
            "1/1 [==============================] - 0s 17ms/step\n",
            "1/1 - 0s - loss: 0.0737 - 72ms/epoch - 72ms/step\n",
            "Epoch 33/300\n",
            "1/1 [==============================] - 0s 17ms/step\n",
            "1/1 - 0s - loss: 0.0679 - 68ms/epoch - 68ms/step\n",
            "Epoch 34/300\n",
            "1/1 [==============================] - 0s 16ms/step\n",
            "1/1 - 0s - loss: 0.0626 - 72ms/epoch - 72ms/step\n",
            "Epoch 35/300\n",
            "1/1 [==============================] - 0s 16ms/step\n",
            "1/1 - 0s - loss: 0.0577 - 63ms/epoch - 63ms/step\n",
            "Epoch 36/300\n",
            "1/1 [==============================] - 0s 20ms/step\n",
            "1/1 - 0s - loss: 0.0532 - 66ms/epoch - 66ms/step\n",
            "Epoch 37/300\n",
            "1/1 [==============================] - 0s 28ms/step\n",
            "1/1 - 0s - loss: 0.0490 - 112ms/epoch - 112ms/step\n",
            "Epoch 38/300\n",
            "1/1 [==============================] - 0s 29ms/step\n",
            "1/1 - 0s - loss: 0.0451 - 112ms/epoch - 112ms/step\n",
            "Epoch 39/300\n",
            "1/1 [==============================] - 0s 29ms/step\n",
            "1/1 - 0s - loss: 0.0415 - 107ms/epoch - 107ms/step\n",
            "Epoch 40/300\n",
            "1/1 [==============================] - 0s 35ms/step\n",
            "1/1 - 0s - loss: 0.0382 - 105ms/epoch - 105ms/step\n",
            "Epoch 41/300\n",
            "1/1 [==============================] - 0s 23ms/step\n",
            "1/1 - 0s - loss: 0.0351 - 105ms/epoch - 105ms/step\n",
            "Epoch 42/300\n",
            "1/1 [==============================] - 0s 25ms/step\n",
            "1/1 - 0s - loss: 0.0323 - 90ms/epoch - 90ms/step\n",
            "Epoch 43/300\n",
            "1/1 [==============================] - 0s 29ms/step\n",
            "1/1 - 0s - loss: 0.0297 - 103ms/epoch - 103ms/step\n",
            "Epoch 44/300\n",
            "1/1 [==============================] - 0s 25ms/step\n",
            "1/1 - 0s - loss: 0.0273 - 104ms/epoch - 104ms/step\n",
            "Epoch 45/300\n",
            "1/1 [==============================] - 0s 27ms/step\n",
            "1/1 - 0s - loss: 0.0251 - 95ms/epoch - 95ms/step\n",
            "Epoch 46/300\n",
            "1/1 [==============================] - 0s 25ms/step\n",
            "1/1 - 0s - loss: 0.0231 - 99ms/epoch - 99ms/step\n",
            "Epoch 47/300\n",
            "1/1 [==============================] - 0s 28ms/step\n",
            "1/1 - 0s - loss: 0.0212 - 99ms/epoch - 99ms/step\n",
            "Epoch 48/300\n",
            "1/1 [==============================] - 0s 27ms/step\n",
            "1/1 - 0s - loss: 0.0195 - 98ms/epoch - 98ms/step\n",
            "Epoch 49/300\n",
            "1/1 [==============================] - 0s 27ms/step\n",
            "1/1 - 0s - loss: 0.0179 - 99ms/epoch - 99ms/step\n",
            "Epoch 50/300\n",
            "1/1 [==============================] - 0s 27ms/step\n",
            "1/1 - 0s - loss: 0.0165 - 97ms/epoch - 97ms/step\n",
            "Epoch 51/300\n",
            "1/1 [==============================] - 0s 26ms/step\n",
            "1/1 - 0s - loss: 0.0151 - 135ms/epoch - 135ms/step\n",
            "Epoch 52/300\n",
            "1/1 [==============================] - 0s 28ms/step\n",
            "1/1 - 0s - loss: 0.0139 - 111ms/epoch - 111ms/step\n",
            "Epoch 53/300\n",
            "1/1 [==============================] - 0s 33ms/step\n",
            "1/1 - 0s - loss: 0.0128 - 120ms/epoch - 120ms/step\n",
            "Epoch 54/300\n",
            "1/1 [==============================] - 0s 26ms/step\n",
            "1/1 - 0s - loss: 0.0117 - 108ms/epoch - 108ms/step\n",
            "Epoch 55/300\n",
            "1/1 [==============================] - 0s 50ms/step\n",
            "1/1 - 0s - loss: 0.0108 - 149ms/epoch - 149ms/step\n",
            "Epoch 56/300\n",
            "1/1 [==============================] - 0s 51ms/step\n",
            "1/1 - 0s - loss: 0.0099 - 203ms/epoch - 203ms/step\n",
            "Epoch 57/300\n",
            "1/1 [==============================] - 0s 27ms/step\n",
            "1/1 - 0s - loss: 0.0091 - 127ms/epoch - 127ms/step\n",
            "Epoch 58/300\n",
            "1/1 [==============================] - 0s 43ms/step\n",
            "1/1 - 0s - loss: 0.0083 - 129ms/epoch - 129ms/step\n",
            "Epoch 59/300\n",
            "1/1 [==============================] - 0s 36ms/step\n",
            "1/1 - 0s - loss: 0.0076 - 112ms/epoch - 112ms/step\n",
            "Epoch 60/300\n",
            "1/1 [==============================] - 0s 58ms/step\n",
            "1/1 - 0s - loss: 0.0070 - 134ms/epoch - 134ms/step\n",
            "Epoch 61/300\n",
            "1/1 [==============================] - 0s 47ms/step\n",
            "1/1 - 0s - loss: 0.0064 - 148ms/epoch - 148ms/step\n",
            "Epoch 62/300\n",
            "1/1 [==============================] - 0s 32ms/step\n",
            "1/1 - 0s - loss: 0.0059 - 143ms/epoch - 143ms/step\n",
            "Epoch 63/300\n",
            "1/1 [==============================] - 0s 50ms/step\n",
            "1/1 - 0s - loss: 0.0054 - 140ms/epoch - 140ms/step\n",
            "Epoch 64/300\n",
            "1/1 [==============================] - 0s 33ms/step\n",
            "1/1 - 0s - loss: 0.0050 - 142ms/epoch - 142ms/step\n",
            "Epoch 65/300\n",
            "1/1 [==============================] - 0s 36ms/step\n",
            "1/1 - 0s - loss: 0.0046 - 127ms/epoch - 127ms/step\n",
            "Epoch 66/300\n",
            "1/1 [==============================] - 0s 34ms/step\n",
            "1/1 - 0s - loss: 0.0042 - 139ms/epoch - 139ms/step\n",
            "Epoch 67/300\n",
            "1/1 [==============================] - 0s 62ms/step\n",
            "1/1 - 0s - loss: 0.0038 - 139ms/epoch - 139ms/step\n",
            "Epoch 68/300\n",
            "1/1 [==============================] - 0s 30ms/step\n",
            "1/1 - 0s - loss: 0.0035 - 117ms/epoch - 117ms/step\n",
            "Epoch 69/300\n",
            "1/1 [==============================] - 0s 101ms/step\n",
            "1/1 - 0s - loss: 0.0032 - 229ms/epoch - 229ms/step\n",
            "Epoch 70/300\n",
            "1/1 [==============================] - 0s 52ms/step\n",
            "1/1 - 0s - loss: 0.0029 - 228ms/epoch - 228ms/step\n",
            "Epoch 71/300\n",
            "1/1 [==============================] - 0s 79ms/step\n",
            "1/1 - 0s - loss: 0.0027 - 253ms/epoch - 253ms/step\n",
            "Epoch 72/300\n",
            "1/1 [==============================] - 0s 18ms/step\n",
            "1/1 - 0s - loss: 0.0025 - 130ms/epoch - 130ms/step\n",
            "Epoch 73/300\n",
            "1/1 [==============================] - 0s 53ms/step\n",
            "1/1 - 0s - loss: 0.0023 - 131ms/epoch - 131ms/step\n",
            "Epoch 74/300\n",
            "1/1 [==============================] - 0s 16ms/step\n",
            "1/1 - 0s - loss: 0.0021 - 70ms/epoch - 70ms/step\n",
            "Epoch 75/300\n",
            "1/1 [==============================] - 0s 17ms/step\n",
            "1/1 - 0s - loss: 0.0019 - 68ms/epoch - 68ms/step\n",
            "Epoch 76/300\n",
            "1/1 [==============================] - 0s 17ms/step\n",
            "1/1 - 0s - loss: 0.0017 - 70ms/epoch - 70ms/step\n",
            "Epoch 77/300\n",
            "1/1 [==============================] - 0s 17ms/step\n",
            "1/1 - 0s - loss: 0.0016 - 70ms/epoch - 70ms/step\n",
            "Epoch 78/300\n",
            "1/1 [==============================] - 0s 16ms/step\n",
            "1/1 - 0s - loss: 0.0015 - 69ms/epoch - 69ms/step\n",
            "Epoch 79/300\n",
            "1/1 [==============================] - 0s 16ms/step\n",
            "1/1 - 0s - loss: 0.0013 - 64ms/epoch - 64ms/step\n",
            "Epoch 80/300\n",
            "1/1 [==============================] - 0s 16ms/step\n",
            "1/1 - 0s - loss: 0.0012 - 70ms/epoch - 70ms/step\n",
            "Epoch 81/300\n",
            "1/1 [==============================] - 0s 16ms/step\n",
            "1/1 - 0s - loss: 0.0011 - 64ms/epoch - 64ms/step\n",
            "Epoch 82/300\n",
            "1/1 [==============================] - 0s 17ms/step\n",
            "1/1 - 0s - loss: 0.0010 - 63ms/epoch - 63ms/step\n",
            "Epoch 83/300\n",
            "1/1 [==============================] - 0s 21ms/step\n",
            "1/1 - 0s - loss: 9.4783e-04 - 76ms/epoch - 76ms/step\n",
            "Epoch 84/300\n",
            "1/1 [==============================] - 0s 18ms/step\n",
            "1/1 - 0s - loss: 8.6830e-04 - 72ms/epoch - 72ms/step\n",
            "Epoch 85/300\n",
            "1/1 [==============================] - 0s 18ms/step\n",
            "1/1 - 0s - loss: 7.9542e-04 - 67ms/epoch - 67ms/step\n",
            "Epoch 86/300\n",
            "1/1 [==============================] - 0s 17ms/step\n",
            "1/1 - 0s - loss: 7.2863e-04 - 66ms/epoch - 66ms/step\n",
            "Epoch 87/300\n",
            "1/1 [==============================] - 0s 16ms/step\n",
            "1/1 - 0s - loss: 6.6742e-04 - 61ms/epoch - 61ms/step\n",
            "Epoch 88/300\n",
            "1/1 [==============================] - 0s 15ms/step\n",
            "1/1 - 0s - loss: 6.1134e-04 - 63ms/epoch - 63ms/step\n",
            "Epoch 89/300\n",
            "1/1 [==============================] - 0s 17ms/step\n",
            "1/1 - 0s - loss: 5.5995e-04 - 70ms/epoch - 70ms/step\n",
            "Epoch 90/300\n",
            "1/1 [==============================] - 0s 17ms/step\n",
            "1/1 - 0s - loss: 5.1286e-04 - 70ms/epoch - 70ms/step\n",
            "Epoch 91/300\n",
            "1/1 [==============================] - 0s 17ms/step\n",
            "1/1 - 0s - loss: 4.6972e-04 - 73ms/epoch - 73ms/step\n",
            "Epoch 92/300\n",
            "1/1 [==============================] - 0s 17ms/step\n",
            "1/1 - 0s - loss: 4.3020e-04 - 67ms/epoch - 67ms/step\n",
            "Epoch 93/300\n",
            "1/1 [==============================] - 0s 20ms/step\n",
            "1/1 - 0s - loss: 3.9400e-04 - 69ms/epoch - 69ms/step\n",
            "Epoch 94/300\n",
            "1/1 [==============================] - 0s 18ms/step\n",
            "1/1 - 0s - loss: 3.6082e-04 - 70ms/epoch - 70ms/step\n",
            "Epoch 95/300\n",
            "1/1 [==============================] - 0s 16ms/step\n",
            "1/1 - 0s - loss: 3.3044e-04 - 62ms/epoch - 62ms/step\n",
            "Epoch 96/300\n",
            "1/1 [==============================] - 0s 16ms/step\n",
            "1/1 - 0s - loss: 3.0260e-04 - 67ms/epoch - 67ms/step\n",
            "Epoch 97/300\n",
            "1/1 [==============================] - 0s 17ms/step\n",
            "1/1 - 0s - loss: 2.7711e-04 - 64ms/epoch - 64ms/step\n",
            "Epoch 98/300\n",
            "1/1 [==============================] - 0s 16ms/step\n",
            "1/1 - 0s - loss: 2.5376e-04 - 77ms/epoch - 77ms/step\n",
            "Epoch 99/300\n",
            "1/1 [==============================] - 0s 16ms/step\n",
            "1/1 - 0s - loss: 2.3237e-04 - 63ms/epoch - 63ms/step\n",
            "Epoch 100/300\n",
            "1/1 [==============================] - 0s 16ms/step\n",
            "1/1 - 0s - loss: 2.1277e-04 - 64ms/epoch - 64ms/step\n",
            "Epoch 101/300\n",
            "1/1 [==============================] - 0s 16ms/step\n",
            "1/1 - 0s - loss: 1.9483e-04 - 68ms/epoch - 68ms/step\n",
            "Epoch 102/300\n",
            "1/1 [==============================] - 0s 16ms/step\n",
            "1/1 - 0s - loss: 1.7840e-04 - 68ms/epoch - 68ms/step\n",
            "Epoch 103/300\n",
            "1/1 [==============================] - 0s 17ms/step\n",
            "1/1 - 0s - loss: 1.6335e-04 - 67ms/epoch - 67ms/step\n",
            "Epoch 104/300\n",
            "1/1 [==============================] - 0s 16ms/step\n",
            "1/1 - 0s - loss: 1.4956e-04 - 69ms/epoch - 69ms/step\n",
            "Epoch 105/300\n",
            "1/1 [==============================] - 0s 17ms/step\n",
            "1/1 - 0s - loss: 1.3695e-04 - 66ms/epoch - 66ms/step\n",
            "Epoch 106/300\n",
            "1/1 [==============================] - 0s 18ms/step\n",
            "1/1 - 0s - loss: 1.2539e-04 - 90ms/epoch - 90ms/step\n",
            "Epoch 107/300\n",
            "1/1 [==============================] - 0s 18ms/step\n",
            "1/1 - 0s - loss: 1.1480e-04 - 76ms/epoch - 76ms/step\n",
            "Epoch 108/300\n",
            "1/1 [==============================] - 0s 16ms/step\n",
            "1/1 - 0s - loss: 1.0511e-04 - 64ms/epoch - 64ms/step\n",
            "Epoch 109/300\n",
            "1/1 [==============================] - 0s 17ms/step\n",
            "1/1 - 0s - loss: 9.6233e-05 - 68ms/epoch - 68ms/step\n",
            "Epoch 110/300\n",
            "1/1 [==============================] - 0s 16ms/step\n",
            "1/1 - 0s - loss: 8.8106e-05 - 65ms/epoch - 65ms/step\n",
            "Epoch 111/300\n",
            "1/1 [==============================] - 0s 17ms/step\n",
            "1/1 - 0s - loss: 8.0664e-05 - 69ms/epoch - 69ms/step\n",
            "Epoch 112/300\n",
            "1/1 [==============================] - 0s 16ms/step\n",
            "1/1 - 0s - loss: 7.3851e-05 - 77ms/epoch - 77ms/step\n",
            "Epoch 113/300\n",
            "1/1 [==============================] - 0s 18ms/step\n",
            "1/1 - 0s - loss: 6.7610e-05 - 69ms/epoch - 69ms/step\n",
            "Epoch 114/300\n",
            "1/1 [==============================] - 0s 18ms/step\n",
            "1/1 - 0s - loss: 6.1898e-05 - 72ms/epoch - 72ms/step\n",
            "Epoch 115/300\n",
            "1/1 [==============================] - 0s 16ms/step\n",
            "1/1 - 0s - loss: 5.6667e-05 - 65ms/epoch - 65ms/step\n",
            "Epoch 116/300\n",
            "1/1 [==============================] - 0s 16ms/step\n",
            "1/1 - 0s - loss: 5.1879e-05 - 70ms/epoch - 70ms/step\n",
            "Epoch 117/300\n",
            "1/1 [==============================] - 0s 17ms/step\n",
            "1/1 - 0s - loss: 4.7494e-05 - 69ms/epoch - 69ms/step\n",
            "Epoch 118/300\n",
            "1/1 [==============================] - 0s 16ms/step\n",
            "1/1 - 0s - loss: 4.3479e-05 - 65ms/epoch - 65ms/step\n",
            "Epoch 119/300\n",
            "1/1 [==============================] - 0s 16ms/step\n",
            "1/1 - 0s - loss: 3.9803e-05 - 64ms/epoch - 64ms/step\n",
            "Epoch 120/300\n",
            "1/1 [==============================] - 0s 20ms/step\n",
            "1/1 - 0s - loss: 3.6438e-05 - 66ms/epoch - 66ms/step\n",
            "Epoch 121/300\n",
            "1/1 [==============================] - 0s 16ms/step\n",
            "1/1 - 0s - loss: 3.3356e-05 - 66ms/epoch - 66ms/step\n",
            "Epoch 122/300\n",
            "1/1 [==============================] - 0s 16ms/step\n",
            "1/1 - 0s - loss: 3.0537e-05 - 64ms/epoch - 64ms/step\n",
            "Epoch 123/300\n",
            "1/1 [==============================] - 0s 16ms/step\n",
            "1/1 - 0s - loss: 2.7953e-05 - 64ms/epoch - 64ms/step\n",
            "Epoch 124/300\n",
            "1/1 [==============================] - 0s 19ms/step\n",
            "1/1 - 0s - loss: 2.5590e-05 - 73ms/epoch - 73ms/step\n",
            "Epoch 125/300\n",
            "1/1 [==============================] - 0s 19ms/step\n",
            "1/1 - 0s - loss: 2.3426e-05 - 85ms/epoch - 85ms/step\n",
            "Epoch 126/300\n",
            "1/1 [==============================] - 0s 20ms/step\n",
            "1/1 - 0s - loss: 2.1445e-05 - 89ms/epoch - 89ms/step\n",
            "Epoch 127/300\n",
            "1/1 [==============================] - 0s 17ms/step\n",
            "1/1 - 0s - loss: 1.9630e-05 - 70ms/epoch - 70ms/step\n",
            "Epoch 128/300\n",
            "1/1 [==============================] - 0s 16ms/step\n",
            "1/1 - 0s - loss: 1.7970e-05 - 74ms/epoch - 74ms/step\n",
            "Epoch 129/300\n",
            "1/1 [==============================] - 0s 17ms/step\n",
            "1/1 - 0s - loss: 1.6449e-05 - 64ms/epoch - 64ms/step\n",
            "Epoch 130/300\n",
            "1/1 [==============================] - 0s 16ms/step\n",
            "1/1 - 0s - loss: 1.5058e-05 - 66ms/epoch - 66ms/step\n",
            "Epoch 131/300\n",
            "1/1 [==============================] - 0s 16ms/step\n",
            "1/1 - 0s - loss: 1.3783e-05 - 70ms/epoch - 70ms/step\n",
            "Epoch 132/300\n",
            "1/1 [==============================] - 0s 19ms/step\n",
            "1/1 - 0s - loss: 1.2618e-05 - 69ms/epoch - 69ms/step\n",
            "Epoch 133/300\n",
            "1/1 [==============================] - 0s 16ms/step\n",
            "1/1 - 0s - loss: 1.1549e-05 - 65ms/epoch - 65ms/step\n",
            "Epoch 134/300\n",
            "1/1 [==============================] - 0s 17ms/step\n",
            "1/1 - 0s - loss: 1.0573e-05 - 73ms/epoch - 73ms/step\n",
            "Epoch 135/300\n",
            "1/1 [==============================] - 0s 17ms/step\n",
            "1/1 - 0s - loss: 9.6781e-06 - 70ms/epoch - 70ms/step\n",
            "Epoch 136/300\n",
            "1/1 [==============================] - 0s 16ms/step\n",
            "1/1 - 0s - loss: 8.8583e-06 - 69ms/epoch - 69ms/step\n",
            "Epoch 137/300\n",
            "1/1 [==============================] - 0s 17ms/step\n",
            "1/1 - 0s - loss: 8.1094e-06 - 66ms/epoch - 66ms/step\n",
            "Epoch 138/300\n",
            "1/1 [==============================] - 0s 18ms/step\n",
            "1/1 - 0s - loss: 7.4232e-06 - 69ms/epoch - 69ms/step\n",
            "Epoch 139/300\n",
            "1/1 [==============================] - 0s 17ms/step\n",
            "1/1 - 0s - loss: 6.7944e-06 - 65ms/epoch - 65ms/step\n",
            "Epoch 140/300\n",
            "1/1 [==============================] - 0s 34ms/step\n",
            "1/1 - 0s - loss: 6.2193e-06 - 90ms/epoch - 90ms/step\n",
            "Epoch 141/300\n",
            "1/1 [==============================] - 0s 17ms/step\n",
            "1/1 - 0s - loss: 5.6929e-06 - 70ms/epoch - 70ms/step\n",
            "Epoch 142/300\n",
            "1/1 [==============================] - 0s 17ms/step\n",
            "1/1 - 0s - loss: 5.2111e-06 - 67ms/epoch - 67ms/step\n",
            "Epoch 143/300\n",
            "1/1 [==============================] - 0s 16ms/step\n",
            "1/1 - 0s - loss: 4.7700e-06 - 72ms/epoch - 72ms/step\n",
            "Epoch 144/300\n",
            "1/1 [==============================] - 0s 17ms/step\n",
            "1/1 - 0s - loss: 4.3658e-06 - 67ms/epoch - 67ms/step\n",
            "Epoch 145/300\n",
            "1/1 [==============================] - 0s 18ms/step\n",
            "1/1 - 0s - loss: 3.9968e-06 - 70ms/epoch - 70ms/step\n",
            "Epoch 146/300\n",
            "1/1 [==============================] - 0s 21ms/step\n",
            "1/1 - 0s - loss: 3.6583e-06 - 73ms/epoch - 73ms/step\n",
            "Epoch 147/300\n",
            "1/1 [==============================] - 0s 17ms/step\n",
            "1/1 - 0s - loss: 3.3486e-06 - 68ms/epoch - 68ms/step\n",
            "Epoch 148/300\n",
            "1/1 [==============================] - 0s 17ms/step\n",
            "1/1 - 0s - loss: 3.0649e-06 - 67ms/epoch - 67ms/step\n",
            "Epoch 149/300\n",
            "1/1 [==============================] - 0s 16ms/step\n",
            "1/1 - 0s - loss: 2.8054e-06 - 71ms/epoch - 71ms/step\n",
            "Epoch 150/300\n",
            "1/1 [==============================] - 0s 16ms/step\n",
            "1/1 - 0s - loss: 2.5686e-06 - 65ms/epoch - 65ms/step\n",
            "Epoch 151/300\n",
            "1/1 [==============================] - 0s 16ms/step\n",
            "1/1 - 0s - loss: 2.3506e-06 - 64ms/epoch - 64ms/step\n",
            "Epoch 152/300\n",
            "1/1 [==============================] - 0s 16ms/step\n",
            "1/1 - 0s - loss: 2.1516e-06 - 70ms/epoch - 70ms/step\n",
            "Epoch 153/300\n",
            "1/1 [==============================] - 0s 17ms/step\n",
            "1/1 - 0s - loss: 1.9692e-06 - 72ms/epoch - 72ms/step\n",
            "Epoch 154/300\n",
            "1/1 [==============================] - 0s 25ms/step\n",
            "1/1 - 0s - loss: 1.8026e-06 - 84ms/epoch - 84ms/step\n",
            "Epoch 155/300\n",
            "1/1 [==============================] - 0s 18ms/step\n",
            "1/1 - 0s - loss: 1.6501e-06 - 68ms/epoch - 68ms/step\n",
            "Epoch 156/300\n",
            "1/1 [==============================] - 0s 16ms/step\n",
            "1/1 - 0s - loss: 1.5104e-06 - 68ms/epoch - 68ms/step\n",
            "Epoch 157/300\n",
            "1/1 [==============================] - 0s 16ms/step\n",
            "1/1 - 0s - loss: 1.3824e-06 - 64ms/epoch - 64ms/step\n",
            "Epoch 158/300\n",
            "1/1 [==============================] - 0s 17ms/step\n",
            "1/1 - 0s - loss: 1.2654e-06 - 66ms/epoch - 66ms/step\n",
            "Epoch 159/300\n",
            "1/1 [==============================] - 0s 19ms/step\n",
            "1/1 - 0s - loss: 1.1582e-06 - 72ms/epoch - 72ms/step\n",
            "Epoch 160/300\n",
            "1/1 [==============================] - 0s 17ms/step\n",
            "1/1 - 0s - loss: 1.0601e-06 - 80ms/epoch - 80ms/step\n",
            "Epoch 161/300\n",
            "1/1 [==============================] - 0s 16ms/step\n",
            "1/1 - 0s - loss: 9.7047e-07 - 62ms/epoch - 62ms/step\n",
            "Epoch 162/300\n",
            "1/1 [==============================] - 0s 16ms/step\n",
            "1/1 - 0s - loss: 8.8804e-07 - 72ms/epoch - 72ms/step\n",
            "Epoch 163/300\n",
            "1/1 [==============================] - 0s 17ms/step\n",
            "1/1 - 0s - loss: 8.1285e-07 - 66ms/epoch - 66ms/step\n",
            "Epoch 164/300\n",
            "1/1 [==============================] - 0s 17ms/step\n",
            "1/1 - 0s - loss: 7.4403e-07 - 71ms/epoch - 71ms/step\n",
            "Epoch 165/300\n",
            "1/1 [==============================] - 0s 16ms/step\n",
            "1/1 - 0s - loss: 6.8104e-07 - 67ms/epoch - 67ms/step\n",
            "Epoch 166/300\n",
            "1/1 [==============================] - 0s 17ms/step\n",
            "1/1 - 0s - loss: 6.2338e-07 - 70ms/epoch - 70ms/step\n",
            "Epoch 167/300\n",
            "1/1 [==============================] - 0s 16ms/step\n",
            "1/1 - 0s - loss: 5.7050e-07 - 68ms/epoch - 68ms/step\n",
            "Epoch 168/300\n",
            "1/1 [==============================] - 0s 28ms/step\n",
            "1/1 - 0s - loss: 5.2231e-07 - 78ms/epoch - 78ms/step\n",
            "Epoch 169/300\n",
            "1/1 [==============================] - 0s 17ms/step\n",
            "1/1 - 0s - loss: 4.7784e-07 - 72ms/epoch - 72ms/step\n",
            "Epoch 170/300\n",
            "1/1 [==============================] - 0s 16ms/step\n",
            "1/1 - 0s - loss: 4.3753e-07 - 67ms/epoch - 67ms/step\n",
            "Epoch 171/300\n",
            "1/1 [==============================] - 0s 16ms/step\n",
            "1/1 - 0s - loss: 4.0043e-07 - 71ms/epoch - 71ms/step\n",
            "Epoch 172/300\n",
            "1/1 [==============================] - 0s 19ms/step\n",
            "1/1 - 0s - loss: 3.6652e-07 - 75ms/epoch - 75ms/step\n",
            "Epoch 173/300\n",
            "1/1 [==============================] - 0s 16ms/step\n",
            "1/1 - 0s - loss: 3.3549e-07 - 66ms/epoch - 66ms/step\n",
            "Epoch 174/300\n",
            "1/1 [==============================] - 0s 17ms/step\n",
            "1/1 - 0s - loss: 3.0713e-07 - 68ms/epoch - 68ms/step\n",
            "Epoch 175/300\n",
            "1/1 [==============================] - 0s 19ms/step\n",
            "1/1 - 0s - loss: 2.8103e-07 - 71ms/epoch - 71ms/step\n",
            "Epoch 176/300\n",
            "1/1 [==============================] - 0s 29ms/step\n",
            "1/1 - 0s - loss: 2.5724e-07 - 90ms/epoch - 90ms/step\n",
            "Epoch 177/300\n",
            "1/1 [==============================] - 0s 29ms/step\n",
            "1/1 - 0s - loss: 2.3540e-07 - 96ms/epoch - 96ms/step\n",
            "Epoch 178/300\n",
            "1/1 [==============================] - 0s 26ms/step\n",
            "1/1 - 0s - loss: 2.1547e-07 - 94ms/epoch - 94ms/step\n",
            "Epoch 179/300\n",
            "1/1 [==============================] - 0s 41ms/step\n",
            "1/1 - 0s - loss: 1.9726e-07 - 120ms/epoch - 120ms/step\n",
            "Epoch 180/300\n",
            "1/1 [==============================] - 0s 38ms/step\n",
            "1/1 - 0s - loss: 1.8060e-07 - 124ms/epoch - 124ms/step\n",
            "Epoch 181/300\n",
            "1/1 [==============================] - 0s 30ms/step\n",
            "1/1 - 0s - loss: 1.6518e-07 - 107ms/epoch - 107ms/step\n",
            "Epoch 182/300\n",
            "1/1 [==============================] - 0s 27ms/step\n",
            "1/1 - 0s - loss: 1.5121e-07 - 96ms/epoch - 96ms/step\n",
            "Epoch 183/300\n",
            "1/1 [==============================] - 0s 23ms/step\n",
            "1/1 - 0s - loss: 1.3845e-07 - 103ms/epoch - 103ms/step\n",
            "Epoch 184/300\n",
            "1/1 [==============================] - 0s 28ms/step\n",
            "1/1 - 0s - loss: 1.2665e-07 - 103ms/epoch - 103ms/step\n",
            "Epoch 185/300\n",
            "1/1 [==============================] - 0s 31ms/step\n",
            "1/1 - 0s - loss: 1.1590e-07 - 98ms/epoch - 98ms/step\n",
            "Epoch 186/300\n",
            "1/1 [==============================] - 0s 25ms/step\n",
            "1/1 - 0s - loss: 1.0611e-07 - 91ms/epoch - 91ms/step\n",
            "Epoch 187/300\n",
            "1/1 [==============================] - 0s 25ms/step\n",
            "1/1 - 0s - loss: 9.7155e-08 - 96ms/epoch - 96ms/step\n",
            "Epoch 188/300\n",
            "1/1 [==============================] - 0s 32ms/step\n",
            "1/1 - 0s - loss: 8.8906e-08 - 101ms/epoch - 101ms/step\n",
            "Epoch 189/300\n",
            "1/1 [==============================] - 0s 26ms/step\n",
            "1/1 - 0s - loss: 8.1374e-08 - 99ms/epoch - 99ms/step\n",
            "Epoch 190/300\n",
            "1/1 [==============================] - 0s 36ms/step\n",
            "1/1 - 0s - loss: 7.4469e-08 - 115ms/epoch - 115ms/step\n",
            "Epoch 191/300\n",
            "1/1 [==============================] - 0s 29ms/step\n",
            "1/1 - 0s - loss: 6.8161e-08 - 118ms/epoch - 118ms/step\n",
            "Epoch 192/300\n",
            "1/1 [==============================] - 0s 31ms/step\n",
            "1/1 - 0s - loss: 6.2423e-08 - 95ms/epoch - 95ms/step\n",
            "Epoch 193/300\n",
            "1/1 [==============================] - 0s 26ms/step\n",
            "1/1 - 0s - loss: 5.7096e-08 - 111ms/epoch - 111ms/step\n",
            "Epoch 194/300\n",
            "1/1 [==============================] - 0s 26ms/step\n",
            "1/1 - 0s - loss: 5.2318e-08 - 93ms/epoch - 93ms/step\n",
            "Epoch 195/300\n",
            "1/1 [==============================] - 0s 31ms/step\n",
            "1/1 - 0s - loss: 4.7846e-08 - 96ms/epoch - 96ms/step\n",
            "Epoch 196/300\n",
            "1/1 [==============================] - 0s 29ms/step\n",
            "1/1 - 0s - loss: 4.3833e-08 - 105ms/epoch - 105ms/step\n",
            "Epoch 197/300\n",
            "1/1 [==============================] - 0s 24ms/step\n",
            "1/1 - 0s - loss: 4.0067e-08 - 92ms/epoch - 92ms/step\n",
            "Epoch 198/300\n",
            "1/1 [==============================] - 0s 20ms/step\n",
            "1/1 - 0s - loss: 3.6727e-08 - 76ms/epoch - 76ms/step\n",
            "Epoch 199/300\n",
            "1/1 [==============================] - 0s 16ms/step\n",
            "1/1 - 0s - loss: 3.3566e-08 - 68ms/epoch - 68ms/step\n",
            "Epoch 200/300\n",
            "1/1 [==============================] - 0s 17ms/step\n",
            "1/1 - 0s - loss: 3.0753e-08 - 67ms/epoch - 67ms/step\n",
            "Epoch 201/300\n",
            "1/1 [==============================] - 0s 17ms/step\n",
            "1/1 - 0s - loss: 2.8125e-08 - 65ms/epoch - 65ms/step\n",
            "Epoch 202/300\n",
            "1/1 [==============================] - 0s 17ms/step\n",
            "1/1 - 0s - loss: 2.5743e-08 - 82ms/epoch - 82ms/step\n",
            "Epoch 203/300\n",
            "1/1 [==============================] - 0s 17ms/step\n",
            "1/1 - 0s - loss: 2.3580e-08 - 69ms/epoch - 69ms/step\n",
            "Epoch 204/300\n",
            "1/1 [==============================] - 0s 20ms/step\n",
            "1/1 - 0s - loss: 2.1598e-08 - 71ms/epoch - 71ms/step\n",
            "Epoch 205/300\n",
            "1/1 [==============================] - 0s 16ms/step\n",
            "1/1 - 0s - loss: 1.9749e-08 - 68ms/epoch - 68ms/step\n",
            "Epoch 206/300\n",
            "1/1 [==============================] - 0s 17ms/step\n",
            "1/1 - 0s - loss: 1.8100e-08 - 69ms/epoch - 69ms/step\n",
            "Epoch 207/300\n",
            "1/1 [==============================] - 0s 17ms/step\n",
            "1/1 - 0s - loss: 1.6563e-08 - 75ms/epoch - 75ms/step\n",
            "Epoch 208/300\n",
            "1/1 [==============================] - 0s 19ms/step\n",
            "1/1 - 0s - loss: 1.5135e-08 - 70ms/epoch - 70ms/step\n",
            "Epoch 209/300\n",
            "1/1 [==============================] - 0s 17ms/step\n",
            "1/1 - 0s - loss: 1.3854e-08 - 69ms/epoch - 69ms/step\n",
            "Epoch 210/300\n",
            "1/1 [==============================] - 0s 19ms/step\n",
            "1/1 - 0s - loss: 1.2689e-08 - 72ms/epoch - 72ms/step\n",
            "Epoch 211/300\n",
            "1/1 [==============================] - 0s 18ms/step\n",
            "1/1 - 0s - loss: 1.1609e-08 - 73ms/epoch - 73ms/step\n",
            "Epoch 212/300\n",
            "1/1 [==============================] - 0s 18ms/step\n",
            "1/1 - 0s - loss: 1.0631e-08 - 72ms/epoch - 72ms/step\n",
            "Epoch 213/300\n",
            "1/1 [==============================] - 0s 18ms/step\n",
            "1/1 - 0s - loss: 9.7425e-09 - 72ms/epoch - 72ms/step\n",
            "Epoch 214/300\n",
            "1/1 [==============================] - 0s 17ms/step\n",
            "1/1 - 0s - loss: 8.8879e-09 - 69ms/epoch - 69ms/step\n",
            "Epoch 215/300\n",
            "1/1 [==============================] - 0s 17ms/step\n",
            "1/1 - 0s - loss: 8.1653e-09 - 71ms/epoch - 71ms/step\n",
            "Epoch 216/300\n",
            "1/1 [==============================] - 0s 18ms/step\n",
            "1/1 - 0s - loss: 7.4531e-09 - 92ms/epoch - 92ms/step\n",
            "Epoch 217/300\n",
            "1/1 [==============================] - 0s 19ms/step\n",
            "1/1 - 0s - loss: 6.8146e-09 - 78ms/epoch - 78ms/step\n",
            "Epoch 218/300\n",
            "1/1 [==============================] - 0s 18ms/step\n",
            "1/1 - 0s - loss: 6.2397e-09 - 75ms/epoch - 75ms/step\n",
            "Epoch 219/300\n",
            "1/1 [==============================] - 0s 18ms/step\n",
            "1/1 - 0s - loss: 5.7220e-09 - 74ms/epoch - 74ms/step\n",
            "Epoch 220/300\n",
            "1/1 [==============================] - 0s 17ms/step\n",
            "1/1 - 0s - loss: 5.2455e-09 - 79ms/epoch - 79ms/step\n",
            "Epoch 221/300\n",
            "1/1 [==============================] - 0s 19ms/step\n",
            "1/1 - 0s - loss: 4.8009e-09 - 73ms/epoch - 73ms/step\n",
            "Epoch 222/300\n",
            "1/1 [==============================] - 0s 16ms/step\n",
            "1/1 - 0s - loss: 4.3872e-09 - 72ms/epoch - 72ms/step\n",
            "Epoch 223/300\n",
            "1/1 [==============================] - 0s 17ms/step\n",
            "1/1 - 0s - loss: 4.0172e-09 - 71ms/epoch - 71ms/step\n",
            "Epoch 224/300\n",
            "1/1 [==============================] - 0s 18ms/step\n",
            "1/1 - 0s - loss: 3.6651e-09 - 71ms/epoch - 71ms/step\n",
            "Epoch 225/300\n",
            "1/1 [==============================] - 0s 16ms/step\n",
            "1/1 - 0s - loss: 3.3664e-09 - 75ms/epoch - 75ms/step\n",
            "Epoch 226/300\n",
            "1/1 [==============================] - 0s 19ms/step\n",
            "1/1 - 0s - loss: 3.0730e-09 - 70ms/epoch - 70ms/step\n",
            "Epoch 227/300\n",
            "1/1 [==============================] - 0s 18ms/step\n",
            "1/1 - 0s - loss: 2.8158e-09 - 78ms/epoch - 78ms/step\n",
            "Epoch 228/300\n",
            "1/1 [==============================] - 0s 17ms/step\n",
            "1/1 - 0s - loss: 2.5917e-09 - 69ms/epoch - 69ms/step\n",
            "Epoch 229/300\n",
            "1/1 [==============================] - 0s 18ms/step\n",
            "1/1 - 0s - loss: 2.3644e-09 - 85ms/epoch - 85ms/step\n",
            "Epoch 230/300\n",
            "1/1 [==============================] - 0s 16ms/step\n",
            "1/1 - 0s - loss: 2.1606e-09 - 69ms/epoch - 69ms/step\n",
            "Epoch 231/300\n",
            "1/1 [==============================] - 0s 16ms/step\n",
            "1/1 - 0s - loss: 1.9804e-09 - 64ms/epoch - 64ms/step\n",
            "Epoch 232/300\n",
            "1/1 [==============================] - 0s 16ms/step\n",
            "1/1 - 0s - loss: 1.8060e-09 - 68ms/epoch - 68ms/step\n",
            "Epoch 233/300\n",
            "1/1 [==============================] - 0s 18ms/step\n",
            "1/1 - 0s - loss: 1.6560e-09 - 65ms/epoch - 65ms/step\n",
            "Epoch 234/300\n",
            "1/1 [==============================] - 0s 16ms/step\n",
            "1/1 - 0s - loss: 1.5121e-09 - 78ms/epoch - 78ms/step\n",
            "Epoch 235/300\n",
            "1/1 [==============================] - 0s 16ms/step\n",
            "1/1 - 0s - loss: 1.3866e-09 - 74ms/epoch - 74ms/step\n",
            "Epoch 236/300\n",
            "1/1 [==============================] - 0s 17ms/step\n",
            "1/1 - 0s - loss: 1.2652e-09 - 72ms/epoch - 72ms/step\n",
            "Epoch 237/300\n",
            "1/1 [==============================] - 0s 17ms/step\n",
            "1/1 - 0s - loss: 1.1589e-09 - 70ms/epoch - 70ms/step\n",
            "Epoch 238/300\n",
            "1/1 [==============================] - 0s 18ms/step\n",
            "1/1 - 0s - loss: 1.0583e-09 - 74ms/epoch - 74ms/step\n",
            "Epoch 239/300\n",
            "1/1 [==============================] - 0s 19ms/step\n",
            "1/1 - 0s - loss: 9.6875e-10 - 81ms/epoch - 81ms/step\n",
            "Epoch 240/300\n",
            "1/1 [==============================] - 0s 22ms/step\n",
            "1/1 - 0s - loss: 8.9237e-10 - 83ms/epoch - 83ms/step\n",
            "Epoch 241/300\n",
            "1/1 [==============================] - 0s 17ms/step\n",
            "1/1 - 0s - loss: 8.1343e-10 - 76ms/epoch - 76ms/step\n",
            "Epoch 242/300\n",
            "1/1 [==============================] - 0s 24ms/step\n",
            "1/1 - 0s - loss: 7.5003e-10 - 78ms/epoch - 78ms/step\n",
            "Epoch 243/300\n",
            "1/1 [==============================] - 0s 18ms/step\n",
            "1/1 - 0s - loss: 6.8714e-10 - 84ms/epoch - 84ms/step\n",
            "Epoch 244/300\n",
            "1/1 [==============================] - 0s 18ms/step\n",
            "1/1 - 0s - loss: 6.2968e-10 - 76ms/epoch - 76ms/step\n",
            "Epoch 245/300\n",
            "1/1 [==============================] - 0s 17ms/step\n",
            "1/1 - 0s - loss: 5.7696e-10 - 72ms/epoch - 72ms/step\n",
            "Epoch 246/300\n",
            "1/1 [==============================] - 0s 17ms/step\n",
            "1/1 - 0s - loss: 5.2997e-10 - 77ms/epoch - 77ms/step\n",
            "Epoch 247/300\n",
            "1/1 [==============================] - 0s 18ms/step\n",
            "1/1 - 0s - loss: 4.8219e-10 - 73ms/epoch - 73ms/step\n",
            "Epoch 248/300\n",
            "1/1 [==============================] - 0s 17ms/step\n",
            "1/1 - 0s - loss: 4.4204e-10 - 74ms/epoch - 74ms/step\n",
            "Epoch 249/300\n",
            "1/1 [==============================] - 0s 17ms/step\n",
            "1/1 - 0s - loss: 4.0412e-10 - 69ms/epoch - 69ms/step\n",
            "Epoch 250/300\n",
            "1/1 [==============================] - 0s 18ms/step\n",
            "1/1 - 0s - loss: 3.6752e-10 - 72ms/epoch - 72ms/step\n",
            "Epoch 251/300\n",
            "1/1 [==============================] - 0s 17ms/step\n",
            "1/1 - 0s - loss: 3.3788e-10 - 75ms/epoch - 75ms/step\n",
            "Epoch 252/300\n",
            "1/1 [==============================] - 0s 16ms/step\n",
            "1/1 - 0s - loss: 3.0842e-10 - 73ms/epoch - 73ms/step\n",
            "Epoch 253/300\n",
            "1/1 [==============================] - 0s 17ms/step\n",
            "1/1 - 0s - loss: 2.8167e-10 - 75ms/epoch - 75ms/step\n",
            "Epoch 254/300\n",
            "1/1 [==============================] - 0s 19ms/step\n",
            "1/1 - 0s - loss: 2.5734e-10 - 71ms/epoch - 71ms/step\n",
            "Epoch 255/300\n",
            "1/1 [==============================] - 0s 17ms/step\n",
            "1/1 - 0s - loss: 2.3725e-10 - 70ms/epoch - 70ms/step\n",
            "Epoch 256/300\n",
            "1/1 [==============================] - 0s 17ms/step\n",
            "1/1 - 0s - loss: 2.1828e-10 - 80ms/epoch - 80ms/step\n",
            "Epoch 257/300\n",
            "1/1 [==============================] - 0s 17ms/step\n",
            "1/1 - 0s - loss: 1.9789e-10 - 71ms/epoch - 71ms/step\n",
            "Epoch 258/300\n",
            "1/1 [==============================] - 0s 17ms/step\n",
            "1/1 - 0s - loss: 1.8026e-10 - 68ms/epoch - 68ms/step\n",
            "Epoch 259/300\n",
            "1/1 [==============================] - 0s 17ms/step\n",
            "1/1 - 0s - loss: 1.6718e-10 - 74ms/epoch - 74ms/step\n",
            "Epoch 260/300\n",
            "1/1 [==============================] - 0s 16ms/step\n",
            "1/1 - 0s - loss: 1.5197e-10 - 66ms/epoch - 66ms/step\n",
            "Epoch 261/300\n",
            "1/1 [==============================] - 0s 17ms/step\n",
            "1/1 - 0s - loss: 1.3967e-10 - 78ms/epoch - 78ms/step\n",
            "Epoch 262/300\n",
            "1/1 [==============================] - 0s 18ms/step\n",
            "1/1 - 0s - loss: 1.2543e-10 - 77ms/epoch - 77ms/step\n",
            "Epoch 263/300\n",
            "1/1 [==============================] - 0s 19ms/step\n",
            "1/1 - 0s - loss: 1.1522e-10 - 79ms/epoch - 79ms/step\n",
            "Epoch 264/300\n",
            "1/1 [==============================] - 0s 17ms/step\n",
            "1/1 - 0s - loss: 1.0587e-10 - 76ms/epoch - 76ms/step\n",
            "Epoch 265/300\n",
            "1/1 [==============================] - 0s 17ms/step\n",
            "1/1 - 0s - loss: 9.7407e-11 - 72ms/epoch - 72ms/step\n",
            "Epoch 266/300\n",
            "1/1 [==============================] - 0s 18ms/step\n",
            "1/1 - 0s - loss: 8.9533e-11 - 77ms/epoch - 77ms/step\n",
            "Epoch 267/300\n",
            "1/1 [==============================] - 0s 17ms/step\n",
            "1/1 - 0s - loss: 8.2390e-11 - 71ms/epoch - 71ms/step\n",
            "Epoch 268/300\n",
            "1/1 [==============================] - 0s 17ms/step\n",
            "1/1 - 0s - loss: 7.6800e-11 - 67ms/epoch - 67ms/step\n",
            "Epoch 269/300\n",
            "1/1 [==============================] - 0s 85ms/step\n",
            "1/1 - 0s - loss: 6.9804e-11 - 155ms/epoch - 155ms/step\n",
            "Epoch 270/300\n",
            "1/1 [==============================] - 0s 48ms/step\n",
            "1/1 - 0s - loss: 6.3385e-11 - 271ms/epoch - 271ms/step\n",
            "Epoch 271/300\n",
            "1/1 [==============================] - 0s 59ms/step\n",
            "1/1 - 0s - loss: 5.8617e-11 - 135ms/epoch - 135ms/step\n",
            "Epoch 272/300\n",
            "1/1 [==============================] - 0s 17ms/step\n",
            "1/1 - 0s - loss: 5.4044e-11 - 71ms/epoch - 71ms/step\n",
            "Epoch 273/300\n",
            "1/1 [==============================] - 0s 18ms/step\n",
            "1/1 - 0s - loss: 4.8421e-11 - 78ms/epoch - 78ms/step\n",
            "Epoch 274/300\n",
            "1/1 [==============================] - 0s 19ms/step\n",
            "1/1 - 0s - loss: 4.4994e-11 - 76ms/epoch - 76ms/step\n",
            "Epoch 275/300\n",
            "1/1 [==============================] - 0s 19ms/step\n",
            "1/1 - 0s - loss: 4.0663e-11 - 73ms/epoch - 73ms/step\n",
            "Epoch 276/300\n",
            "1/1 [==============================] - 0s 16ms/step\n",
            "1/1 - 0s - loss: 3.8684e-11 - 68ms/epoch - 68ms/step\n",
            "Epoch 277/300\n",
            "1/1 [==============================] - 0s 18ms/step\n",
            "1/1 - 0s - loss: 3.5766e-11 - 71ms/epoch - 71ms/step\n",
            "Epoch 278/300\n",
            "1/1 [==============================] - 0s 115ms/step\n",
            "1/1 - 0s - loss: 3.2005e-11 - 263ms/epoch - 263ms/step\n",
            "Epoch 279/300\n",
            "1/1 [==============================] - 0s 52ms/step\n",
            "1/1 - 0s - loss: 3.0526e-11 - 200ms/epoch - 200ms/step\n",
            "Epoch 280/300\n",
            "1/1 [==============================] - 0s 16ms/step\n",
            "1/1 - 0s - loss: 2.6624e-11 - 73ms/epoch - 73ms/step\n",
            "Epoch 281/300\n",
            "1/1 [==============================] - 0s 19ms/step\n",
            "1/1 - 0s - loss: 2.4680e-11 - 73ms/epoch - 73ms/step\n",
            "Epoch 282/300\n",
            "1/1 [==============================] - 0s 19ms/step\n",
            "1/1 - 0s - loss: 2.3308e-11 - 79ms/epoch - 79ms/step\n",
            "Epoch 283/300\n",
            "1/1 [==============================] - 0s 18ms/step\n",
            "1/1 - 0s - loss: 2.1745e-11 - 77ms/epoch - 77ms/step\n",
            "Epoch 284/300\n",
            "1/1 [==============================] - 0s 19ms/step\n",
            "1/1 - 0s - loss: 1.9895e-11 - 83ms/epoch - 83ms/step\n",
            "Epoch 285/300\n",
            "1/1 [==============================] - 0s 18ms/step\n",
            "1/1 - 0s - loss: 1.8135e-11 - 72ms/epoch - 72ms/step\n",
            "Epoch 286/300\n",
            "1/1 [==============================] - 0s 19ms/step\n",
            "1/1 - 0s - loss: 1.8095e-11 - 77ms/epoch - 77ms/step\n",
            "Epoch 287/300\n",
            "1/1 [==============================] - 0s 24ms/step\n",
            "1/1 - 0s - loss: 1.5464e-11 - 84ms/epoch - 84ms/step\n",
            "Epoch 288/300\n",
            "1/1 [==============================] - 0s 16ms/step\n",
            "1/1 - 0s - loss: 1.3692e-11 - 69ms/epoch - 69ms/step\n",
            "Epoch 289/300\n",
            "1/1 [==============================] - 0s 18ms/step\n",
            "1/1 - 0s - loss: 1.3474e-11 - 77ms/epoch - 77ms/step\n",
            "Epoch 290/300\n",
            "1/1 [==============================] - 0s 17ms/step\n",
            "1/1 - 0s - loss: 1.2451e-11 - 73ms/epoch - 73ms/step\n",
            "Epoch 291/300\n",
            "1/1 [==============================] - 0s 17ms/step\n",
            "1/1 - 0s - loss: 1.1210e-11 - 73ms/epoch - 73ms/step\n",
            "Epoch 292/300\n",
            "1/1 [==============================] - 0s 19ms/step\n",
            "1/1 - 0s - loss: 1.0377e-11 - 75ms/epoch - 75ms/step\n",
            "Epoch 293/300\n",
            "1/1 [==============================] - 0s 18ms/step\n",
            "1/1 - 0s - loss: 9.2963e-12 - 79ms/epoch - 79ms/step\n",
            "Epoch 294/300\n",
            "1/1 [==============================] - 0s 17ms/step\n",
            "1/1 - 0s - loss: 8.2145e-12 - 74ms/epoch - 74ms/step\n",
            "Epoch 295/300\n",
            "1/1 [==============================] - 0s 16ms/step\n",
            "1/1 - 0s - loss: 7.8870e-12 - 68ms/epoch - 68ms/step\n",
            "Epoch 296/300\n",
            "1/1 [==============================] - 0s 17ms/step\n",
            "1/1 - 0s - loss: 8.1718e-12 - 71ms/epoch - 71ms/step\n",
            "Epoch 297/300\n",
            "1/1 [==============================] - 0s 19ms/step\n",
            "1/1 - 0s - loss: 7.2949e-12 - 72ms/epoch - 72ms/step\n",
            "Epoch 298/300\n",
            "1/1 [==============================] - 0s 17ms/step\n",
            "1/1 - 0s - loss: 6.6797e-12 - 78ms/epoch - 78ms/step\n",
            "Epoch 299/300\n",
            "1/1 [==============================] - 0s 19ms/step\n",
            "1/1 - 0s - loss: 6.4944e-12 - 71ms/epoch - 71ms/step\n",
            "Epoch 300/300\n",
            "1/1 [==============================] - 0s 32ms/step\n",
            "1/1 - 0s - loss: 6.0805e-12 - 95ms/epoch - 95ms/step\n"
          ]
        },
        {
          "output_type": "execute_result",
          "data": {
            "text/plain": [
              "<keras.src.callbacks.History at 0x790b481e6d10>"
            ]
          },
          "metadata": {},
          "execution_count": 21
        }
      ],
      "source": [
        "# DO NOT CHANGE THIS CELL\n",
        "\n",
        "# We then fit the model\n",
        "epochs = 300\n",
        "print(\"Training!\")\n",
        "model.fit(xs, ys, epochs=epochs, callbacks=[callbacks], verbose=2)"
      ]
    },
    {
      "cell_type": "markdown",
      "source": [
        "### Plot Loss graph"
      ],
      "metadata": {
        "id": "K5LXMdjRwn1g"
      }
    },
    {
      "cell_type": "markdown",
      "source": [
        "Use the ***predicted ys*** and the ***ground truth ys*** to manually calculate the MSE (mean-squared error) loss for each epoch. Then, plot the **loss vs epochs** graph, which should represent decreasing loss.\n",
        "\n",
        "***Hint1:*** The shape of 'predictions' array is **(epochs, 6)** - this represents a 2D array of the 6 predicted Y values at every epoch. Each row represents the 6 predicted Y values.\n",
        "\n",
        "***Hint2:*** Store the 'loss' as a 1D vector of size **(epochs)**. Each value will represent the MSE (of all 6 Ys) at each epoch."
      ],
      "metadata": {
        "id": "9hengxScwQRq"
      }
    },
    {
      "cell_type": "code",
      "source": [
        "predictions = np.asarray(predictions)\n",
        "predictions = predictions.reshape(epochs, 6)\n",
        "print(\"Predictions array shape:\" ,predictions.shape)\n",
        "print(\"Ys Ground Truth shape: \", ys.shape)\n",
        "\n",
        "# TODO - Calculate MSE Loss and Plot Loss graph\n",
        "ep = range(1,epochs+1)\n",
        "mse=[]\n",
        "for epoch in range(epochs):\n",
        "  err=0\n",
        "  for count in range(6):\n",
        "    err += (predictions[epoch][count]-ys[count])**2\n",
        "  mse.append(err/6.0)\n",
        "plt.scatter(ep,mse)\n",
        "plt.show()\n",
        "\n",
        "\n",
        "\n"
      ],
      "metadata": {
        "id": "m7Qwhn99q-C6",
        "colab": {
          "base_uri": "https://localhost:8080/",
          "height": 465
        },
        "outputId": "c7d82b97-ada6-47b8-aca4-c5e5473527c0"
      },
      "execution_count": null,
      "outputs": [
        {
          "output_type": "stream",
          "name": "stdout",
          "text": [
            "Predictions array shape: (300, 6)\n",
            "Ys Ground Truth shape:  (6,)\n"
          ]
        },
        {
          "output_type": "display_data",
          "data": {
            "text/plain": [
              "<Figure size 640x480 with 1 Axes>"
            ],
            "image/png": "[encoded data removed]"
          },
          "metadata": {}
        }
      ]
    },
    {
      "cell_type": "markdown",
      "metadata": {
        "id": "Z3yhScVorTvs"
      },
      "source": [
        "Below is a plot of the resulting y predictions at EPOCH_NUMBERS = 1, 25, 50, 150, 300. If you'd like to see other predictions at other epochs, update the EPOCH_NUMBERS variable and re-run the cell!"
      ]
    },
    {
      "cell_type": "code",
      "execution_count": null,
      "metadata": {
        "id": "9NSFY8oQbNlD",
        "colab": {
          "base_uri": "https://localhost:8080/",
          "height": 430
        },
        "outputId": "eb945026-52ca-4b3d-81dc-ef0ff865977d"
      },
      "outputs": [
        {
          "output_type": "display_data",
          "data": {
            "text/plain": [
              "<Figure size 640x480 with 1 Axes>"
            ],
            "image/png": "[encoded data removed]"
          },
          "metadata": {}
        }
      ],
      "source": [
        "EPOCH_NUMBERS=[1,25,50,150,300] # Update me to see other Epochs\n",
        "plt.plot(xs,ys,label = \"Ys\")\n",
        "for EPOCH in EPOCH_NUMBERS:\n",
        "    plt.plot(xs,predictions[EPOCH-1],label = \"Epoch = \" + str(EPOCH))\n",
        "plt.legend()\n",
        "plt.show()"
      ]
    },
    {
      "cell_type": "markdown",
      "source": [
        "# 2. Multiclass Classification using Dense Neural Network\n",
        "\n",
        "In the second section of the assignment, you'll create a multi-layer Neural network with Dense layers for a Multi-class Classification problem.\n",
        "\n",
        "We start by setting up the problem for you."
      ],
      "metadata": {
        "id": "4RwCEyGX3pD_"
      }
    },
    {
      "cell_type": "code",
      "source": [
        "import tensorflow as tf\n",
        "import numpy as np\n",
        "import matplotlib.pyplot as plt"
      ],
      "metadata": {
        "id": "CVtyj-UdsNHh"
      },
      "execution_count": 3,
      "outputs": []
    },
    {
      "cell_type": "markdown",
      "source": [
        "### Load Dataset"
      ],
      "metadata": {
        "id": "KjgLfzEW3guP"
      }
    },
    {
      "cell_type": "markdown",
      "source": [
        "You will be using the Fashion MNIST Dataset. - https://github.com/zalandoresearch/fashion-mnist. In the below cell, use the TensorFlow Keras API to load the datatset and split it into training and test sets."
      ],
      "metadata": {
        "id": "hnD1ll9I4CV0"
      }
    },
    {
      "cell_type": "code",
      "source": [
        "# TODO - Load in fashion MNIST\n",
        "mnist = tf.keras.datasets.fashion_mnist\n",
        "(training_images,training_labels),(val_images,val_labels) = mnist.load_data()\n",
        "\n"
      ],
      "metadata": {
        "id": "7plbAHHI4FNL",
        "colab": {
          "base_uri": "https://localhost:8080/"
        },
        "outputId": "9e1de444-6c11-4580-a369-562d3b0e4fd3"
      },
      "execution_count": 4,
      "outputs": [
        {
          "output_type": "stream",
          "name": "stdout",
          "text": [
            "Downloading data from https://storage.googleapis.com/tensorflow/tf-keras-datasets/train-labels-idx1-ubyte.gz\n",
            "29515/29515 [==============================] - 0s 0us/step\n",
            "Downloading data from https://storage.googleapis.com/tensorflow/tf-keras-datasets/train-images-idx3-ubyte.gz\n",
            "26421880/26421880 [==============================] - 2s 0us/step\n",
            "Downloading data from https://storage.googleapis.com/tensorflow/tf-keras-datasets/t10k-labels-idx1-ubyte.gz\n",
            "5148/5148 [==============================] - 0s 0us/step\n",
            "Downloading data from https://storage.googleapis.com/tensorflow/tf-keras-datasets/t10k-images-idx3-ubyte.gz\n",
            "4422102/4422102 [==============================] - 1s 0us/step\n"
          ]
        }
      ]
    },
    {
      "cell_type": "markdown",
      "source": [
        "### Plot Sample Training Examples\n",
        "\n",
        "\n",
        "\n",
        "---\n",
        "\n",
        "\n",
        "Question 1: Plot the first 3 training images along with the training labels.\n",
        "\n",
        "\n",
        "\n",
        "---\n",
        "\n"
      ],
      "metadata": {
        "id": "RDVd_M8o-pOJ"
      }
    },
    {
      "cell_type": "code",
      "source": [
        "# TODO - plot 1st training example\n",
        "\n",
        "plt.imshow(training_images[0])"
      ],
      "metadata": {
        "id": "mYLHpFxesl0v",
        "colab": {
          "base_uri": "https://localhost:8080/",
          "height": 447
        },
        "outputId": "089a9c85-619a-467b-82be-f2ee748bf7c7"
      },
      "execution_count": null,
      "outputs": [
        {
          "output_type": "execute_result",
          "data": {
            "text/plain": [
              "<matplotlib.image.AxesImage at 0x790adc789c00>"
            ]
          },
          "metadata": {},
          "execution_count": 29
        },
        {
          "output_type": "display_data",
          "data": {
            "text/plain": [
              "<Figure size 640x480 with 1 Axes>"
            ],
            "image/png": "[encoded data removed]"
          },
          "metadata": {}
        }
      ]
    },
    {
      "cell_type": "code",
      "source": [
        "# TODO - plot 2nd training example\n",
        "\n",
        "plt.imshow(training_images[1])"
      ],
      "metadata": {
        "id": "SHwuTsdf6BvZ",
        "colab": {
          "base_uri": "https://localhost:8080/",
          "height": 447
        },
        "outputId": "162ea542-ff85-4ca9-8630-2edf7cac35f0"
      },
      "execution_count": null,
      "outputs": [
        {
          "output_type": "execute_result",
          "data": {
            "text/plain": [
              "<matplotlib.image.AxesImage at 0x790b48185330>"
            ]
          },
          "metadata": {},
          "execution_count": 30
        },
        {
          "output_type": "display_data",
          "data": {
            "text/plain": [
              "<Figure size 640x480 with 1 Axes>"
            ],
            "image/png": "[encoded data removed]"
          },
          "metadata": {}
        }
      ]
    },
    {
      "cell_type": "code",
      "source": [
        "# TODO - plot 3rd training example\n",
        "\n",
        "plt.imshow(training_images[2])"
      ],
      "metadata": {
        "id": "tbmgs0Mc6B47",
        "colab": {
          "base_uri": "https://localhost:8080/",
          "height": 447
        },
        "outputId": "63534f6b-bd0e-48dd-cca0-a813e1bf20e8"
      },
      "execution_count": null,
      "outputs": [
        {
          "output_type": "execute_result",
          "data": {
            "text/plain": [
              "<matplotlib.image.AxesImage at 0x790b481203a0>"
            ]
          },
          "metadata": {},
          "execution_count": 31
        },
        {
          "output_type": "display_data",
          "data": {
            "text/plain": [
              "<Figure size 640x480 with 1 Axes>"
            ],
            "image/png": "[encoded data removed]"
          },
          "metadata": {}
        }
      ]
    },
    {
      "cell_type": "markdown",
      "source": [
        "### Define Model"
      ],
      "metadata": {
        "id": "-EWEIMWx3mO3"
      }
    },
    {
      "cell_type": "markdown",
      "source": [
        "We define the below model - a two-layer DNN (one hidden layer, output layer) - to take in the Fashion MNIST 28 x 28 grayscale image as input. This is in addition to the input layer. Can you detetrmine the number of neurons in the output layer?"
      ],
      "metadata": {
        "id": "M1LBogzb3ssj"
      }
    },
    {
      "cell_type": "code",
      "source": [
        "# Define the base model\n",
        "\n",
        "No_Output_Neurons = 10\n",
        "model = tf.keras.models.Sequential([tf.keras.layers.Flatten(input_shape=(28,28)),\n",
        "                                    tf.keras.layers.Dense(512, activation=tf.nn.relu),\n",
        "                                    tf.keras.layers.Dense(No_Output_Neurons, activation=tf.nn.softmax)])"
      ],
      "metadata": {
        "id": "8Lzj5hJ54HKX"
      },
      "execution_count": null,
      "outputs": []
    },
    {
      "cell_type": "markdown",
      "source": [
        "In the below cell, compile the above defined model with the appropriate Optimizer and Loss Function. Use accuracy as your metric.\n",
        "\n",
        "Refer to the TensorFlow Documentation!"
      ],
      "metadata": {
        "id": "LAidejWG6Zet"
      }
    },
    {
      "cell_type": "code",
      "source": [
        "# TODO - compile the model\n",
        "opt = 'adam'\n",
        "LOSS=tf.keras.losses.SparseCategoricalCrossentropy()\n",
        "model.compile(optimizer=opt,loss=LOSS,metrics=['accuracy'])\n"
      ],
      "metadata": {
        "id": "6AqqFZpA6U48"
      },
      "execution_count": null,
      "outputs": []
    },
    {
      "cell_type": "markdown",
      "source": [
        "### Train Model"
      ],
      "metadata": {
        "id": "FRIzqNq761XD"
      }
    },
    {
      "cell_type": "markdown",
      "source": [
        "Next, we fit the trained model to the training set. But before we do that, we must **preprocess our training and test images**!!\n",
        "\n",
        "Neural Networks learn the best when the data is scaled / normalized to fall in a constant range. Practitioners often use the range [0,1]. How might you do this to the training and test images used here?\n",
        "\n",
        "*A hint: these images are saved in the standard [RGB](https://www.rapidtables.com/web/color/RGB_Color.html) format*"
      ],
      "metadata": {
        "id": "78XVSI7L65Qw"
      }
    },
    {
      "cell_type": "code",
      "source": [
        "# TODO - Preprocess Training and Test Images\n",
        "training_images=training_images/255.0\n",
        "val_images=val_images/255.0\n"
      ],
      "metadata": {
        "id": "_bFSJBYd4OTe"
      },
      "execution_count": 5,
      "outputs": []
    },
    {
      "cell_type": "markdown",
      "source": [
        "Using these improved images, we train the model! Since this is a very simple dataset we only train for 5 epochs.\n"
      ],
      "metadata": {
        "id": "-ffWl32Y4Qt2"
      }
    },
    {
      "cell_type": "markdown",
      "source": [
        "\n",
        "---\n",
        "\n",
        "\n",
        "**Question 2:** Train the model for epochs = 5, 15, 20 and report the accuracies.\n",
        "\n",
        "**Answer:**\n",
        "\n",
        "\n",
        "1.   epochs = 5, training accuracy =\n",
        "2.   epochs = 15, training accuracy =\n",
        "3.   epochs = 20, training accuracy =\n",
        "\n",
        "\n",
        "\n",
        "\n",
        "\n",
        "---"
      ],
      "metadata": {
        "id": "FR0odx7Y7QBx"
      }
    },
    {
      "cell_type": "code",
      "source": [
        "# fit the model to the training data\n",
        "\n",
        "print(\"Training!\")\n",
        "model.fit(training_images, training_labels, epochs=5)"
      ],
      "metadata": {
        "id": "gaRnCjlV4TAL",
        "colab": {
          "base_uri": "https://localhost:8080/"
        },
        "outputId": "6d708ae8-957f-43f5-a4ce-71d994c70a75"
      },
      "execution_count": null,
      "outputs": [
        {
          "output_type": "stream",
          "name": "stdout",
          "text": [
            "Training!\n",
            "Epoch 1/5\n",
            "1875/1875 [==============================] - 7s 3ms/step - loss: 0.4783 - accuracy: 0.8296\n",
            "Epoch 2/5\n",
            "1875/1875 [==============================] - 5s 3ms/step - loss: 0.3581 - accuracy: 0.8689\n",
            "Epoch 3/5\n",
            "1875/1875 [==============================] - 5s 3ms/step - loss: 0.3222 - accuracy: 0.8810\n",
            "Epoch 4/5\n",
            "1875/1875 [==============================] - 5s 3ms/step - loss: 0.2974 - accuracy: 0.8899\n",
            "Epoch 5/5\n",
            "1875/1875 [==============================] - 5s 3ms/step - loss: 0.2812 - accuracy: 0.8956\n"
          ]
        },
        {
          "output_type": "execute_result",
          "data": {
            "text/plain": [
              "<keras.src.callbacks.History at 0x790b404a7df0>"
            ]
          },
          "metadata": {},
          "execution_count": 39
        }
      ]
    },
    {
      "cell_type": "markdown",
      "source": [
        "Once it's done training -- you should see an accuracy value at the end of the final epoch. It might look something like ~ 0.86 - 0.89 for epochs = 5. This tells you that your neural network is about 86 - 89% accurate in classifying the training data. i.e., it figured out a pattern match between the image and the labels that worked 86% - 89% of the time."
      ],
      "metadata": {
        "id": "hP8nXz3S4W9W"
      }
    },
    {
      "cell_type": "markdown",
      "source": [
        "### Evaluate Model"
      ],
      "metadata": {
        "id": "q0DBHGxq9Smh"
      }
    },
    {
      "cell_type": "markdown",
      "source": [
        "How well would the model work with unseen data? That's why we have the test images. We can call ```model.evaluate```. It evaluates our model on the test images and compares the predictions to the actual test labels.\n",
        "\n",
        "Refer TensorFlow Documentation to learn how to use the ```model.evaluate``` API."
      ],
      "metadata": {
        "id": "qejE87dV9UTU"
      }
    },
    {
      "cell_type": "code",
      "source": [
        "# TODO - test the model on the test data\n",
        "val_loss,val_accu = model.evaluate(val_images,val_labels)\n",
        "print(\"Testing!\")\n"
      ],
      "metadata": {
        "id": "9CFJ1jT39QiO",
        "colab": {
          "base_uri": "https://localhost:8080/"
        },
        "outputId": "882f6fa5-7848-47f0-ecb2-a3e059518051"
      },
      "execution_count": null,
      "outputs": [
        {
          "output_type": "stream",
          "name": "stdout",
          "text": [
            "313/313 [==============================] - 1s 2ms/step - loss: 0.3432 - accuracy: 0.8740\n",
            "Testing!\n"
          ]
        }
      ]
    },
    {
      "cell_type": "markdown",
      "source": [
        "The API returns a loss value followed by the test accuracy. You might get an accuracy of around 87 - 89% accuracy. Not Bad!"
      ],
      "metadata": {
        "id": "ixqx29Wl9zKU"
      }
    },
    {
      "cell_type": "markdown",
      "source": [
        "\n",
        "\n",
        "But what did it actually learn? If we inference on the model using ```model.predict``` we get out the following list of values. **What does it represent?**\n",
        "\n",
        "*A hint: trying running ```print(test_labels[0])```*"
      ],
      "metadata": {
        "id": "CWrxZRjc4abM"
      }
    },
    {
      "cell_type": "code",
      "source": [
        "classifications = model.predict(val_images)\n",
        "print(\"predictions:\", classifications[0])    # probability distribution for predictions of first test image.\n",
        "print(\"final prediction:\", np.argmax(classifications[0]))      # final prediction - max probability\n",
        "print(\"gound truth:\", val_labels[0])"
      ],
      "metadata": {
        "id": "ifknu06l4j-0",
        "colab": {
          "base_uri": "https://localhost:8080/"
        },
        "outputId": "6c70494c-08f6-4d32-935e-4b826f280c7f"
      },
      "execution_count": null,
      "outputs": [
        {
          "output_type": "stream",
          "name": "stdout",
          "text": [
            "313/313 [==============================] - 1s 3ms/step\n",
            "predictions: [2.0453836e-06 1.9385370e-06 1.5603307e-07 4.9402438e-08 1.0089449e-06\n",
            " 2.5052586e-04 2.2208189e-06 1.9840598e-02 1.8290142e-05 9.7988313e-01]\n",
            "final prediction: 9\n",
            "gound truth: 9\n"
          ]
        }
      ]
    },
    {
      "cell_type": "markdown",
      "source": [
        "You can also visualize the results!"
      ],
      "metadata": {
        "id": "sFg_dfni4nME"
      }
    },
    {
      "cell_type": "code",
      "source": [
        "plt.imshow(val_images[0], cmap='gray')"
      ],
      "metadata": {
        "id": "3Bgrb1Jk4pUg",
        "colab": {
          "base_uri": "https://localhost:8080/",
          "height": 447
        },
        "outputId": "520458bc-d6f5-419f-8500-6f8fd2774d56"
      },
      "execution_count": null,
      "outputs": [
        {
          "output_type": "execute_result",
          "data": {
            "text/plain": [
              "<matplotlib.image.AxesImage at 0x790b40466ad0>"
            ]
          },
          "metadata": {},
          "execution_count": 44
        },
        {
          "output_type": "display_data",
          "data": {
            "text/plain": [
              "<Figure size 640x480 with 1 Axes>"
            ],
            "image/png": "[encoded data removed]"
          },
          "metadata": {}
        }
      ]
    },
    {
      "cell_type": "markdown",
      "source": [
        "### Case 1 - Double number of Neurons in Hidden Dense Layer"
      ],
      "metadata": {
        "id": "eARYEh_7_vrX"
      }
    },
    {
      "cell_type": "markdown",
      "source": [
        "In the below cell, define a model with double the number of neurons in the dense hidden layer. Then, compile the model, train the model on the training set, and evaluate the model on the test set.\n",
        "\n"
      ],
      "metadata": {
        "id": "zdzO3k3b4rmr"
      }
    },
    {
      "cell_type": "code",
      "source": [
        "# TODO - Define model, compile, train, evaluate\n",
        "No_Output_Neurons = 10\n",
        "model = tf.keras.models.Sequential([tf.keras.layers.Flatten(input_shape=(28,28)),\n",
        "                                    tf.keras.layers.Dense(1024, activation=tf.nn.relu),\n",
        "                                    tf.keras.layers.Dense(No_Output_Neurons, activation=tf.nn.softmax)])\n",
        "model.compile(optimizer = 'adam',loss = tf.keras.losses.SparseCategoricalCrossentropy(),metrics=['accuracy'])\n",
        "model.fit(training_images,training_labels,epochs=5)\n",
        "\n",
        "val_loss,val_accu = model.evaluate(val_images,val_labels)"
      ],
      "metadata": {
        "id": "3-akz3cL4skQ",
        "colab": {
          "base_uri": "https://localhost:8080/"
        },
        "outputId": "fdbb1666-cb65-4986-de1a-19ca5bf10861"
      },
      "execution_count": 8,
      "outputs": [
        {
          "output_type": "stream",
          "name": "stdout",
          "text": [
            "Epoch 1/5\n",
            "1875/1875 [==============================] - 6s 3ms/step - loss: 0.4687 - accuracy: 0.8323\n",
            "Epoch 2/5\n",
            "1875/1875 [==============================] - 4s 2ms/step - loss: 0.3594 - accuracy: 0.8686\n",
            "Epoch 3/5\n",
            "1875/1875 [==============================] - 5s 3ms/step - loss: 0.3211 - accuracy: 0.8812\n",
            "Epoch 4/5\n",
            "1875/1875 [==============================] - 5s 2ms/step - loss: 0.2958 - accuracy: 0.8905\n",
            "Epoch 5/5\n",
            "1875/1875 [==============================] - 5s 2ms/step - loss: 0.2787 - accuracy: 0.8967\n",
            "313/313 [==============================] - 1s 2ms/step - loss: 0.3394 - accuracy: 0.8819\n"
          ]
        }
      ]
    },
    {
      "cell_type": "markdown",
      "source": [
        "\n",
        "\n",
        "---\n",
        "\n",
        "\n",
        "\n",
        "**Question 3:** Do you observe a difference in loss, accuracy, training time etc and if so list them down. Why do you think that's the case?\n",
        "\n",
        "**Answer**:accuracy is increased in validation set.\n",
        "\n",
        "\n",
        "\n",
        "---\n",
        "\n"
      ],
      "metadata": {
        "id": "dDI6sAz2AY9S"
      }
    },
    {
      "cell_type": "markdown",
      "source": [
        "### Case 2 - Include Additional Dense Layer"
      ],
      "metadata": {
        "id": "-tMeBgE6BI6T"
      }
    },
    {
      "cell_type": "markdown",
      "source": [
        "Consider the effects of additional layers in the network instead of just adding more neurons to the same layer.\n",
        "\n",
        "In the below cell, define a model to add an additional layer with 128 neurons between the two existing Dense layers."
      ],
      "metadata": {
        "id": "_mR7uWyf44pL"
      }
    },
    {
      "cell_type": "code",
      "source": [
        "# TODO - Define Similar Model as before with additional Layer\n",
        "layer1 = tf.keras.layers.Dense(512,activation = tf.nn.relu)\n",
        "layer2 = tf.keras.layers.Dense(128,activation=tf.nn.relu)\n",
        "model=tf.keras.models.Sequential([tf.keras.layers.Flatten(input_shape=(28,28)),\n",
        "                                  layer1,\n",
        "                                  layer2,\n",
        "                                  tf.keras.layers.Dense(10,activation=tf.nn.softmax)])\n",
        "model.compile(optimizer='adam',loss=tf.keras.losses.SparseCategoricalCrossentropy(),metrics=['accuracy'])\n",
        "model.fit(training_images,training_labels,epochs=5)\n",
        "val_loss,val_accu = model.evaluate(val_images,val_labels)\n"
      ],
      "metadata": {
        "id": "J3A5FgZU44St",
        "colab": {
          "base_uri": "https://localhost:8080/"
        },
        "outputId": "8bed4e87-2f14-4dea-c4be-30b07e904b4c"
      },
      "execution_count": 13,
      "outputs": [
        {
          "output_type": "stream",
          "name": "stdout",
          "text": [
            "Epoch 1/5\n",
            "1875/1875 [==============================] - 7s 3ms/step - loss: 0.4699 - accuracy: 0.8302\n",
            "Epoch 2/5\n",
            "1875/1875 [==============================] - 5s 3ms/step - loss: 0.3576 - accuracy: 0.8687\n",
            "Epoch 3/5\n",
            "1875/1875 [==============================] - 6s 3ms/step - loss: 0.3224 - accuracy: 0.8803\n",
            "Epoch 4/5\n",
            "1875/1875 [==============================] - 5s 3ms/step - loss: 0.2979 - accuracy: 0.8899\n",
            "Epoch 5/5\n",
            "1875/1875 [==============================] - 6s 3ms/step - loss: 0.2800 - accuracy: 0.8950\n",
            "313/313 [==============================] - 1s 2ms/step - loss: 0.3477 - accuracy: 0.8805\n"
          ]
        }
      ]
    },
    {
      "cell_type": "markdown",
      "source": [
        "We then compile the model, fit the model to training data, and evaluate our model on the test data."
      ],
      "metadata": {
        "id": "k9hpgXvn5DKR"
      }
    },
    {
      "cell_type": "markdown",
      "source": [
        "\n",
        "---\n",
        "\n",
        "\n",
        "\n",
        "**Question 4:** What happens to the error? How does this compare to the original model and the model with double the number of neurons?\n",
        "\n",
        "**Answer**:compare to the origin model, models with more neurons and with one layer more both have higher accuracy on validation data.\n",
        "\n",
        "\n",
        "\n",
        "---"
      ],
      "metadata": {
        "id": "hlShUY7vCnF_"
      }
    },
    {
      "cell_type": "markdown",
      "source": [
        "# Callbacks"
      ],
      "metadata": {
        "id": "IDXOAb2ZDCV1"
      }
    },
    {
      "cell_type": "markdown",
      "source": [
        "Sometimes if we set the model training for too many epochs we may find that training stops improving. In this case, it would be ideal to quit training early. TensorFlow has a function called ```Callbacks``` which can check the results from each epoch.\n",
        "\n",
        "Below, we stop training the model when the accuracy is above 86%."
      ],
      "metadata": {
        "id": "TPLkTNze5OXh"
      }
    },
    {
      "cell_type": "code",
      "source": [
        "# define and instantiate your custom Callback\n",
        "class myCallback(tf.keras.callbacks.Callback):\n",
        "  def on_epoch_end(self, epoch, logs={}):\n",
        "    if( logs.get('accuracy') > 0.86):\n",
        "      self.model.stop_training = True\n",
        "\n",
        "\n",
        "callbacks = myCallback()\n"
      ],
      "metadata": {
        "id": "4TZ38rz05Q7z"
      },
      "execution_count": 14,
      "outputs": []
    },
    {
      "cell_type": "markdown",
      "source": [
        "In the below cell, re-compile the model, re-fit the model to the training data and re-evaluate the model on the test data! Observe that the training process is much shorter!\n",
        "\n",
        "**Note:** When you train the model, refer to the myCallback() class object.\n",
        "\n",
        "\n",
        "***Hint:*** Use the callbacks flag in the `model.fit()` API"
      ],
      "metadata": {
        "id": "k8GN5QIJHJMc"
      }
    },
    {
      "cell_type": "code",
      "source": [
        "# TODO - re-compile, re-fit and re-evaluate\n",
        "model.compile(optimizer = 'adam',loss = tf.keras.losses.SparseCategoricalCrossentropy(),metrics=['accuracy'])\n",
        "model.fit(training_images,training_labels,callbacks=[callbacks],epochs=5)\n",
        "val_loss,val_accu = model.evaluate(val_images,val_labels)\n"
      ],
      "metadata": {
        "id": "OX4k-lboHFOH",
        "colab": {
          "base_uri": "https://localhost:8080/"
        },
        "outputId": "83ef2bd3-2052-410d-c05f-665ea1519207"
      },
      "execution_count": 16,
      "outputs": [
        {
          "output_type": "stream",
          "name": "stdout",
          "text": [
            "Epoch 1/5\n",
            "1875/1875 [==============================] - 6s 3ms/step - loss: 0.2661 - accuracy: 0.8995\n",
            "313/313 [==============================] - 1s 3ms/step - loss: 0.3233 - accuracy: 0.8844\n"
          ]
        }
      ]
    }
  ],
  "metadata": {
    "colab": {
      "provenance": [],
      "gpuType": "T4",
      "include_colab_link": true
    },
    "kernelspec": {
      "display_name": "Python 3",
      "name": "python3"
    },
    "language_info": {
      "codemirror_mode": {
        "name": "ipython",
        "version": 3
      },
      "file_extension": ".py",
      "mimetype": "text/x-python",
      "name": "python",
      "nbconvert_exporter": "python",
      "pygments_lexer": "ipython3",
      "version": "3.6.9"
    },
    "accelerator": "GPU"
  },
  "nbformat": 4,
  "nbformat_minor": 0
}